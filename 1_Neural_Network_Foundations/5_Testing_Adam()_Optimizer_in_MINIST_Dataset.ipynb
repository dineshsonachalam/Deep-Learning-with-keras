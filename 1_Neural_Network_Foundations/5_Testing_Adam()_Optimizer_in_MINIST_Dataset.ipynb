{
 "cells": [
  {
   "cell_type": "code",
   "execution_count": 1,
   "metadata": {},
   "outputs": [
    {
     "name": "stderr",
     "output_type": "stream",
     "text": [
      "Using TensorFlow backend.\n"
     ]
    }
   ],
   "source": [
    "from __future__ import print_function\n",
    "import numpy as np\n",
    "from keras.datasets import mnist\n",
    "from keras.models import Sequential    # Importing Sequential Model\n",
    "from keras.layers.core import Dense,Dropout, Activation  #  Importing  Dense Layers,Dropouts and Activation functions\n",
    "from keras.optimizers import RMSprop, Adam\n",
    "from keras.utils import np_utils  \n",
    "np.random.seed(1671) # for reproducibility -> Once you put the same seed you get same patterns of random numbers."
   ]
  },
  {
   "cell_type": "code",
   "execution_count": 2,
   "metadata": {},
   "outputs": [],
   "source": [
    "# network and training\n",
    "NB_EPOCH = 20  # 20-> times the model is exposed to the training set.\n",
    "BATCH_SIZE = 128\n",
    "VERBOSE = 1\n",
    "NB_CLASSES = 10 # number of outputs = number of digits\n",
    "OPTIMIZER = Adam()\n",
    "N_HIDDEN = 128 # Neurons\n",
    "VALIDATION_SPLIT=0.2 # how much TRAIN is reserved for VALIDATION\n",
    "DROPOUT = 0.3"
   ]
  },
  {
   "cell_type": "code",
   "execution_count": 3,
   "metadata": {},
   "outputs": [],
   "source": [
    "# Data: shuffled and split between train and test sets\n",
    "\n",
    "(X_train, y_train_label), (X_test, y_test_label) = mnist.load_data()\n",
    "\n",
    "#X_train is 60000 rows of 28x28 values --> reshaped in 60000 x 784\n",
    "\n",
    "RESHAPED = 784\n",
    "X_train = X_train.reshape(60000, RESHAPED)\n",
    "X_test  =  X_test.reshape(10000, RESHAPED)\n",
    "X_train = X_train.astype('float32')\n",
    "X_test = X_test.astype('float32')"
   ]
  },
  {
   "cell_type": "code",
   "execution_count": 4,
   "metadata": {},
   "outputs": [
    {
     "name": "stdout",
     "output_type": "stream",
     "text": [
      "60000 train samples\n",
      "10000 test samples\n"
     ]
    }
   ],
   "source": [
    "# normalize -> Involve only rescaling to arrive at value relative to some size variables.\n",
    "\n",
    "X_train /= 255 # Pixel values are 0 to 255 -> So we are normalizing training data by dividing it by 255\n",
    "X_test /= 255\n",
    "print(X_train.shape[0], 'train samples')\n",
    "print(X_test.shape[0], 'test samples')"
   ]
  },
  {
   "cell_type": "code",
   "execution_count": 5,
   "metadata": {},
   "outputs": [],
   "source": [
    "# convert class vectors to binary class matrices\n",
    "Y_train_label = np_utils.to_categorical(y_train_label, NB_CLASSES) \n",
    "Y_test_label = np_utils.to_categorical(y_test_label, NB_CLASSES)\n",
    "\n",
    "# np_utils.to_categorical Used to convert the array of labelled data to one Hot vector-> Binarization of category"
   ]
  },
  {
   "cell_type": "code",
   "execution_count": 6,
   "metadata": {},
   "outputs": [
    {
     "name": "stdout",
     "output_type": "stream",
     "text": [
      "_________________________________________________________________\n",
      "Layer (type)                 Output Shape              Param #   \n",
      "=================================================================\n",
      "dense_1 (Dense)              (None, 128)               100480    \n",
      "_________________________________________________________________\n",
      "activation_1 (Activation)    (None, 128)               0         \n",
      "_________________________________________________________________\n",
      "dropout_1 (Dropout)          (None, 128)               0         \n",
      "_________________________________________________________________\n",
      "dense_2 (Dense)              (None, 128)               16512     \n",
      "_________________________________________________________________\n",
      "activation_2 (Activation)    (None, 128)               0         \n",
      "_________________________________________________________________\n",
      "dropout_2 (Dropout)          (None, 128)               0         \n",
      "_________________________________________________________________\n",
      "dense_3 (Dense)              (None, 10)                1290      \n",
      "_________________________________________________________________\n",
      "activation_3 (Activation)    (None, 10)                0         \n",
      "=================================================================\n",
      "Total params: 118,282\n",
      "Trainable params: 118,282\n",
      "Non-trainable params: 0\n",
      "_________________________________________________________________\n"
     ]
    }
   ],
   "source": [
    "# Final hidden layer  with 10 outputs\n",
    "# final stage is softmax\n",
    "model = Sequential() # Sequential Model.\n",
    "model.add(Dense(N_HIDDEN, input_shape=(RESHAPED,))) # 1st Hidden Layer --> 128 neurons and input dimension ->784\n",
    "model.add(Activation('relu')) # Activation function for 1st Hidden Layer\n",
    "model.add(Dropout(DROPOUT))\n",
    "\n",
    "model.add(Dense(N_HIDDEN))  # 2nd Hidden Layer --> 128 neurons\n",
    "model.add(Activation('relu')) # Activation function for 2nd Hidden Layer\n",
    "model.add(Dropout(DROPOUT))\n",
    "\n",
    "\n",
    "model.add(Dense(NB_CLASSES)) # Final layer with 10 neurons == > no of outputs\n",
    "model.add(Activation('softmax')) # Final layer activation will be 'softmax'\n",
    "\n",
    "model.summary()"
   ]
  },
  {
   "cell_type": "code",
   "execution_count": 7,
   "metadata": {},
   "outputs": [],
   "source": [
    "# Compiling a model in keras\n",
    "model.compile(loss='categorical_crossentropy', optimizer=OPTIMIZER, metrics=['accuracy'])"
   ]
  },
  {
   "cell_type": "code",
   "execution_count": 8,
   "metadata": {},
   "outputs": [
    {
     "name": "stdout",
     "output_type": "stream",
     "text": [
      "Train on 48000 samples, validate on 12000 samples\n",
      "Epoch 1/20\n",
      "48000/48000 [==============================] - 3s 62us/step - loss: 0.5189 - acc: 0.8429 - val_loss: 0.1876 - val_acc: 0.9441\n",
      "Epoch 2/20\n",
      "48000/48000 [==============================] - 2s 51us/step - loss: 0.2324 - acc: 0.9311 - val_loss: 0.1432 - val_acc: 0.9564\n",
      "Epoch 3/20\n",
      "48000/48000 [==============================] - 2s 48us/step - loss: 0.1804 - acc: 0.9461 - val_loss: 0.1162 - val_acc: 0.9671\n",
      "Epoch 4/20\n",
      "48000/48000 [==============================] - 3s 55us/step - loss: 0.1526 - acc: 0.9546 - val_loss: 0.1096 - val_acc: 0.9687\n",
      "Epoch 5/20\n",
      "48000/48000 [==============================] - 3s 53us/step - loss: 0.1318 - acc: 0.9602 - val_loss: 0.0984 - val_acc: 0.9704\n",
      "Epoch 6/20\n",
      "48000/48000 [==============================] - 3s 55us/step - loss: 0.1205 - acc: 0.9629 - val_loss: 0.0892 - val_acc: 0.9737\n",
      "Epoch 7/20\n",
      "48000/48000 [==============================] - 2s 51us/step - loss: 0.1064 - acc: 0.9675 - val_loss: 0.0889 - val_acc: 0.9717\n",
      "Epoch 8/20\n",
      "48000/48000 [==============================] - 3s 54us/step - loss: 0.0995 - acc: 0.9694 - val_loss: 0.0855 - val_acc: 0.9745\n",
      "Epoch 9/20\n",
      "48000/48000 [==============================] - 3s 55us/step - loss: 0.0916 - acc: 0.9711 - val_loss: 0.0840 - val_acc: 0.9753\n",
      "Epoch 10/20\n",
      "48000/48000 [==============================] - 2s 50us/step - loss: 0.0854 - acc: 0.9723 - val_loss: 0.0793 - val_acc: 0.9766\n",
      "Epoch 11/20\n",
      "48000/48000 [==============================] - 2s 48us/step - loss: 0.0805 - acc: 0.9743 - val_loss: 0.0827 - val_acc: 0.9763\n",
      "Epoch 12/20\n",
      "48000/48000 [==============================] - 3s 55us/step - loss: 0.0766 - acc: 0.9751 - val_loss: 0.0828 - val_acc: 0.9766\n",
      "Epoch 13/20\n",
      "48000/48000 [==============================] - 2s 51us/step - loss: 0.0702 - acc: 0.9775 - val_loss: 0.0819 - val_acc: 0.9772\n",
      "Epoch 14/20\n",
      "48000/48000 [==============================] - 2s 50us/step - loss: 0.0682 - acc: 0.9782 - val_loss: 0.0810 - val_acc: 0.9771\n",
      "Epoch 15/20\n",
      "48000/48000 [==============================] - 2s 52us/step - loss: 0.0678 - acc: 0.9769 - val_loss: 0.0824 - val_acc: 0.9783\n",
      "Epoch 16/20\n",
      "48000/48000 [==============================] - 2s 51us/step - loss: 0.0649 - acc: 0.9786 - val_loss: 0.0822 - val_acc: 0.9769\n",
      "Epoch 17/20\n",
      "48000/48000 [==============================] - 3s 53us/step - loss: 0.0593 - acc: 0.9807 - val_loss: 0.0799 - val_acc: 0.9771\n",
      "Epoch 18/20\n",
      "48000/48000 [==============================] - 2s 51us/step - loss: 0.0582 - acc: 0.9811 - val_loss: 0.0780 - val_acc: 0.9782\n",
      "Epoch 19/20\n",
      "48000/48000 [==============================] - 2s 52us/step - loss: 0.0557 - acc: 0.9824 - val_loss: 0.0862 - val_acc: 0.9769\n",
      "Epoch 20/20\n",
      "48000/48000 [==============================] - 3s 54us/step - loss: 0.0570 - acc: 0.9813 - val_loss: 0.0807 - val_acc: 0.9784\n"
     ]
    }
   ],
   "source": [
    "# Training a model in keras\n",
    "\n",
    "# Once the model is compiled it can be trained with the fit() function\n",
    "\n",
    "history = model.fit(X_train, Y_train_label,\n",
    "batch_size=BATCH_SIZE, epochs=NB_EPOCH,\n",
    "verbose=VERBOSE, validation_split=VALIDATION_SPLIT)"
   ]
  },
  {
   "cell_type": "markdown",
   "metadata": {},
   "source": [
    "- When Training end we achieve <b>98.13</b>--><b>Accuracy on Training</b>\n",
    "- <b>97.84</b>--><b>Accuracy on Validataion</b>"
   ]
  },
  {
   "cell_type": "code",
   "execution_count": 9,
   "metadata": {},
   "outputs": [
    {
     "name": "stdout",
     "output_type": "stream",
     "text": [
      "10000/10000 [==============================] - 0s 38us/step\n",
      "Test score: 0.0718872931287\n",
      "Test accuracy: 0.9801\n"
     ]
    }
   ],
   "source": [
    "# Finally calucating the score.\n",
    "score = model.evaluate(X_test, Y_test_label, verbose=VERBOSE)\n",
    "print(\"Test score:\", score[0])\n",
    "print('Test accuracy:', score[1])"
   ]
  },
  {
   "cell_type": "markdown",
   "metadata": {},
   "source": [
    "We tested our model with <b>Test dataset</b> and achieved accuracy of <b>98.01</b>"
   ]
  }
 ],
 "metadata": {
  "kernelspec": {
   "display_name": "Python 3",
   "language": "python",
   "name": "python3"
  },
  "language_info": {
   "codemirror_mode": {
    "name": "ipython",
    "version": 3
   },
   "file_extension": ".py",
   "mimetype": "text/x-python",
   "name": "python",
   "nbconvert_exporter": "python",
   "pygments_lexer": "ipython3",
   "version": "3.6.3"
  }
 },
 "nbformat": 4,
 "nbformat_minor": 2
}
