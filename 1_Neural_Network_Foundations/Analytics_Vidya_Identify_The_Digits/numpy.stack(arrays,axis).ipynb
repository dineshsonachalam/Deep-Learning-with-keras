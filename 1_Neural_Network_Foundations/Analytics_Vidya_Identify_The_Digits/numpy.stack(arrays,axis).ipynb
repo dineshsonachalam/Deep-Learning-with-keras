{
 "cells": [
  {
   "cell_type": "code",
   "execution_count": 7,
   "metadata": {},
   "outputs": [
    {
     "name": "stdout",
     "output_type": "stream",
     "text": [
      "First Array:\n",
      "[[1 2]\n",
      " [3 4]]\n",
      "\n",
      "\n",
      "Second Array:\n",
      "[[5 6]\n",
      " [7 8]]\n",
      "\n",
      "\n",
      "Stack the two arrays along axis 0\n",
      "[[[1 2]\n",
      "  [3 4]]\n",
      "\n",
      " [[5 6]\n",
      "  [7 8]]]\n",
      "\n",
      "Stack the two arrays along axis 1\n",
      "[[[1 2]\n",
      "  [5 6]]\n",
      "\n",
      " [[3 4]\n",
      "  [7 8]]]\n"
     ]
    }
   ],
   "source": [
    "import numpy as np\n",
    "a = np.array(\n",
    "                [\n",
    "                    [1,2],\n",
    "                    [3,4]\n",
    "                ]\n",
    "            )\n",
    "print('First Array:')\n",
    "print(a)\n",
    "print('\\n')\n",
    "b = np.array(\n",
    "                [\n",
    "                    [5,6],\n",
    "                    [7,8]\n",
    "                ]\n",
    "            )\n",
    "print('Second Array:')\n",
    "print(b)\n",
    "print('\\n')\n",
    "print('Stack the two arrays along axis 0')\n",
    "print(np.stack((a,b),0)) \n",
    "\n",
    "print('\\nStack the two arrays along axis 1')\n",
    "print(np.stack((a,b),1))\n"
   ]
  },
  {
   "cell_type": "code",
   "execution_count": 8,
   "metadata": {},
   "outputs": [
    {
     "name": "stdout",
     "output_type": "stream",
     "text": [
      "[[[1 2]\n",
      "  [3 4]]\n",
      "\n",
      " [[5 6]\n",
      "  [7 8]]]\n"
     ]
    }
   ],
   "source": [
    "print(np.stack((a,b)))  # Default stacking"
   ]
  }
 ],
 "metadata": {
  "kernelspec": {
   "display_name": "Python 3",
   "language": "python",
   "name": "python3"
  },
  "language_info": {
   "codemirror_mode": {
    "name": "ipython",
    "version": 3
   },
   "file_extension": ".py",
   "mimetype": "text/x-python",
   "name": "python",
   "nbconvert_exporter": "python",
   "pygments_lexer": "ipython3",
   "version": "3.6.3"
  }
 },
 "nbformat": 4,
 "nbformat_minor": 2
}
