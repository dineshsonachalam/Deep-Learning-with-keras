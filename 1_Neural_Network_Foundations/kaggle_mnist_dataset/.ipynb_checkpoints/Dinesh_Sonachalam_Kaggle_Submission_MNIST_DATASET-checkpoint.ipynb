{
 "cells": [
  {
   "cell_type": "code",
   "execution_count": 24,
   "metadata": {},
   "outputs": [],
   "source": [
    "from __future__ import print_function\n",
    "import numpy as np\n",
    "import pandas as pd # data processing, CSV file I/O (e.g. pd.read_csv)\n",
    "from keras.datasets import mnist\n",
    "from keras.models import Sequential    # Importing Sequential Model\n",
    "from keras.layers.core import Dense,Dropout, Activation  #  Importing  Dense Layers,Dropouts and Activation functions\n",
    "from keras.optimizers import RMSprop, Adam\n",
    "from keras.utils import np_utils  \n",
    "np.random.seed(1671) # for reproducibility -> Once you put the same seed you get same patterns of random numbers."
   ]
  },
  {
   "cell_type": "code",
   "execution_count": 25,
   "metadata": {},
   "outputs": [],
   "source": [
    "# network and training\n",
    "NB_EPOCH = 30 # 30-> times the model is exposed to the training set.\n",
    "BATCH_SIZE = 128\n",
    "VERBOSE = 1\n",
    "NB_CLASSES = 10 # number of outputs = number of digits\n",
    "OPTIMIZER = Adam()\n",
    "N_HIDDEN = 128 # Neurons\n",
    "VALIDATION_SPLIT=0.2 # how much TRAIN is reserved for VALIDATION\n",
    "DROPOUT = 0.3"
   ]
  },
  {
   "cell_type": "code",
   "execution_count": 33,
   "metadata": {},
   "outputs": [],
   "source": [
    "# Data: shuffled and split between train and test sets\n",
    "\n",
    "mnist_data = pd.read_csv(\"train.csv\")\n",
    "\n",
    "X_train = (mnist_data.iloc[:, 1:].values).astype('float32')\n",
    "\n",
    "y_train_label = mnist_data['label'].values.astype('int32')\n",
    "\n",
    "X_test = (pd.read_csv(\"test.csv\").values).astype('float32')\n",
    "\n",
    "# (X_train, y_train_label), (X_test, y_test_label) = mnist.load_data()\n",
    "\n",
    "\n",
    "\n",
    "#X_train is 42000 rows of 28x28 values --> reshaped in 60000 x 784\n",
    "\n",
    "RESHAPED = 784\n",
    "X_train = X_train.reshape(42000, RESHAPED)\n",
    "\n",
    "X_train = X_train.astype('float32')\n",
    "X_test = X_test.astype('float32')"
   ]
  },
  {
   "cell_type": "code",
   "execution_count": 27,
   "metadata": {},
   "outputs": [
    {
     "name": "stdout",
     "output_type": "stream",
     "text": [
      "42000 train samples\n",
      "28000 test samples\n"
     ]
    }
   ],
   "source": [
    "# normalize -> Involve only rescaling to arrive at value relative to some size variables.\n",
    "\n",
    "X_train /= 255 # Pixel values are 0 to 255 -> So we are normalizing training data by dividing it by 255\n",
    "X_test /= 255\n",
    "print(X_train.shape[0], 'train samples')\n",
    "print(X_test.shape[0], 'test samples')"
   ]
  },
  {
   "cell_type": "code",
   "execution_count": 28,
   "metadata": {},
   "outputs": [],
   "source": [
    "# convert class vectors to binary class matrices\n",
    "Y_train_label = np_utils.to_categorical(y_train_label, NB_CLASSES) \n",
    "\n",
    "\n",
    "# np_utils.to_categorical Used to convert the array of labelled data to one Hot vector-> Binarization of category"
   ]
  },
  {
   "cell_type": "code",
   "execution_count": 29,
   "metadata": {},
   "outputs": [
    {
     "name": "stdout",
     "output_type": "stream",
     "text": [
      "_________________________________________________________________\n",
      "Layer (type)                 Output Shape              Param #   \n",
      "=================================================================\n",
      "dense_17 (Dense)             (None, 128)               100480    \n",
      "_________________________________________________________________\n",
      "activation_17 (Activation)   (None, 128)               0         \n",
      "_________________________________________________________________\n",
      "dropout_12 (Dropout)         (None, 128)               0         \n",
      "_________________________________________________________________\n",
      "dense_18 (Dense)             (None, 128)               16512     \n",
      "_________________________________________________________________\n",
      "activation_18 (Activation)   (None, 128)               0         \n",
      "_________________________________________________________________\n",
      "dropout_13 (Dropout)         (None, 128)               0         \n",
      "_________________________________________________________________\n",
      "dense_19 (Dense)             (None, 10)                1290      \n",
      "_________________________________________________________________\n",
      "activation_19 (Activation)   (None, 10)                0         \n",
      "=================================================================\n",
      "Total params: 118,282\n",
      "Trainable params: 118,282\n",
      "Non-trainable params: 0\n",
      "_________________________________________________________________\n"
     ]
    }
   ],
   "source": [
    "# Final hidden layer  with 10 outputs\n",
    "# final stage is softmax\n",
    "model = Sequential() # Sequential Model.\n",
    "model.add(Dense(N_HIDDEN, input_shape=(RESHAPED,))) # 1st Hidden Layer --> 128 neurons and input dimension ->784\n",
    "model.add(Activation('relu')) # Activation function for 1st Hidden Layer\n",
    "model.add(Dropout(DROPOUT))\n",
    "\n",
    "model.add(Dense(N_HIDDEN))  # 2nd Hidden Layer --> 128 neurons\n",
    "model.add(Activation('relu')) # Activation function for 2nd Hidden Layer\n",
    "model.add(Dropout(DROPOUT))\n",
    "\n",
    "\n",
    "model.add(Dense(NB_CLASSES)) # Final layer with 10 neurons == > no of outputs\n",
    "model.add(Activation('softmax')) # Final layer activation will be 'softmax'\n",
    "\n",
    "model.summary()"
   ]
  },
  {
   "cell_type": "code",
   "execution_count": 30,
   "metadata": {},
   "outputs": [],
   "source": [
    "# Compiling a model in keras\n",
    "model.compile(loss='categorical_crossentropy', optimizer=OPTIMIZER, metrics=['accuracy'])"
   ]
  },
  {
   "cell_type": "code",
   "execution_count": 31,
   "metadata": {},
   "outputs": [
    {
     "name": "stdout",
     "output_type": "stream",
     "text": [
      "Train on 33600 samples, validate on 8400 samples\n",
      "Epoch 1/30\n",
      "33600/33600 [==============================] - 3s 76us/step - loss: 0.5981 - acc: 0.8154 - val_loss: 0.2327 - val_acc: 0.9302\n",
      "Epoch 2/30\n",
      "33600/33600 [==============================] - 2s 62us/step - loss: 0.2693 - acc: 0.9207 - val_loss: 0.1606 - val_acc: 0.9517\n",
      "Epoch 3/30\n",
      "33600/33600 [==============================] - 2s 65us/step - loss: 0.2021 - acc: 0.9391 - val_loss: 0.1336 - val_acc: 0.9586\n",
      "Epoch 4/30\n",
      "33600/33600 [==============================] - 2s 62us/step - loss: 0.1676 - acc: 0.9498 - val_loss: 0.1184 - val_acc: 0.9644\n",
      "Epoch 5/30\n",
      "33600/33600 [==============================] - 2s 62us/step - loss: 0.1428 - acc: 0.9571 - val_loss: 0.1082 - val_acc: 0.9661\n",
      "Epoch 6/30\n",
      "33600/33600 [==============================] - 2s 64us/step - loss: 0.1264 - acc: 0.9615 - val_loss: 0.1072 - val_acc: 0.9681\n",
      "Epoch 7/30\n",
      "33600/33600 [==============================] - 2s 62us/step - loss: 0.1164 - acc: 0.9653 - val_loss: 0.1028 - val_acc: 0.9675\n",
      "Epoch 8/30\n",
      "33600/33600 [==============================] - 2s 66us/step - loss: 0.1032 - acc: 0.9678 - val_loss: 0.0986 - val_acc: 0.9714\n",
      "Epoch 9/30\n",
      "33600/33600 [==============================] - 2s 62us/step - loss: 0.0980 - acc: 0.9688 - val_loss: 0.0955 - val_acc: 0.9712\n",
      "Epoch 10/30\n",
      "33600/33600 [==============================] - 2s 63us/step - loss: 0.0902 - acc: 0.9719 - val_loss: 0.0881 - val_acc: 0.9752\n",
      "Epoch 11/30\n",
      "33600/33600 [==============================] - 2s 63us/step - loss: 0.0797 - acc: 0.9749 - val_loss: 0.0962 - val_acc: 0.9736\n",
      "Epoch 12/30\n",
      "33600/33600 [==============================] - 2s 64us/step - loss: 0.0781 - acc: 0.9747 - val_loss: 0.0912 - val_acc: 0.9745\n",
      "Epoch 13/30\n",
      "33600/33600 [==============================] - 2s 64us/step - loss: 0.0691 - acc: 0.9774 - val_loss: 0.0902 - val_acc: 0.9749\n",
      "Epoch 14/30\n",
      "33600/33600 [==============================] - 2s 64us/step - loss: 0.0679 - acc: 0.9776 - val_loss: 0.0900 - val_acc: 0.9760\n",
      "Epoch 15/30\n",
      "33600/33600 [==============================] - 2s 64us/step - loss: 0.0636 - acc: 0.9793 - val_loss: 0.0884 - val_acc: 0.9754\n",
      "Epoch 16/30\n",
      "33600/33600 [==============================] - 2s 63us/step - loss: 0.0616 - acc: 0.9805 - val_loss: 0.0927 - val_acc: 0.9739\n",
      "Epoch 17/30\n",
      "33600/33600 [==============================] - 2s 64us/step - loss: 0.0592 - acc: 0.9806 - val_loss: 0.0893 - val_acc: 0.9754\n",
      "Epoch 18/30\n",
      "33600/33600 [==============================] - 2s 64us/step - loss: 0.0579 - acc: 0.9808 - val_loss: 0.0871 - val_acc: 0.9751\n",
      "Epoch 19/30\n",
      "33600/33600 [==============================] - 2s 64us/step - loss: 0.0532 - acc: 0.9824 - val_loss: 0.0932 - val_acc: 0.9751\n",
      "Epoch 20/30\n",
      "33600/33600 [==============================] - 2s 65us/step - loss: 0.0490 - acc: 0.9845 - val_loss: 0.0934 - val_acc: 0.9754\n",
      "Epoch 21/30\n",
      "33600/33600 [==============================] - 2s 64us/step - loss: 0.0479 - acc: 0.9843 - val_loss: 0.0978 - val_acc: 0.9757\n",
      "Epoch 22/30\n",
      "33600/33600 [==============================] - 2s 63us/step - loss: 0.0502 - acc: 0.9831 - val_loss: 0.0947 - val_acc: 0.9760\n",
      "Epoch 23/30\n",
      "33600/33600 [==============================] - 2s 64us/step - loss: 0.0480 - acc: 0.9842 - val_loss: 0.1050 - val_acc: 0.9727\n",
      "Epoch 24/30\n",
      "33600/33600 [==============================] - 2s 64us/step - loss: 0.0445 - acc: 0.9847 - val_loss: 0.0974 - val_acc: 0.9767\n",
      "Epoch 25/30\n",
      "33600/33600 [==============================] - 2s 64us/step - loss: 0.0454 - acc: 0.9846 - val_loss: 0.0903 - val_acc: 0.9770\n",
      "Epoch 26/30\n",
      "33600/33600 [==============================] - 2s 65us/step - loss: 0.0449 - acc: 0.9854 - val_loss: 0.0975 - val_acc: 0.9762\n",
      "Epoch 27/30\n",
      "33600/33600 [==============================] - 2s 63us/step - loss: 0.0439 - acc: 0.9850 - val_loss: 0.0957 - val_acc: 0.9765\n",
      "Epoch 28/30\n",
      "33600/33600 [==============================] - 2s 63us/step - loss: 0.0401 - acc: 0.9860 - val_loss: 0.0930 - val_acc: 0.9781\n",
      "Epoch 29/30\n",
      "33600/33600 [==============================] - 2s 64us/step - loss: 0.0408 - acc: 0.9868 - val_loss: 0.0939 - val_acc: 0.9762\n",
      "Epoch 30/30\n",
      "33600/33600 [==============================] - 2s 65us/step - loss: 0.0385 - acc: 0.9873 - val_loss: 0.0980 - val_acc: 0.9776\n"
     ]
    }
   ],
   "source": [
    "# Training a model in keras\n",
    "\n",
    "# Once the model is compiled it can be trained with the fit() function\n",
    "\n",
    "history = model.fit(X_train, Y_train_label,\n",
    "batch_size=BATCH_SIZE, epochs=NB_EPOCH,\n",
    "verbose=VERBOSE, validation_split=VALIDATION_SPLIT)"
   ]
  },
  {
   "cell_type": "code",
   "execution_count": 32,
   "metadata": {},
   "outputs": [],
   "source": [
    "predictions = model.predict_classes(X_test, verbose=0)\n",
    "submissions=pd.DataFrame({'ImageId':list(range(1,len(predictions) + 1)), \"Label\": predictions})\n",
    "submissions.to_csv(\"Final_Prediction.csv\", index=False, header=True)"
   ]
  }
 ],
 "metadata": {
  "kernelspec": {
   "display_name": "Python 3",
   "language": "python",
   "name": "python3"
  },
  "language_info": {
   "codemirror_mode": {
    "name": "ipython",
    "version": 3
   },
   "file_extension": ".py",
   "mimetype": "text/x-python",
   "name": "python",
   "nbconvert_exporter": "python",
   "pygments_lexer": "ipython3",
   "version": "3.6.3"
  }
 },
 "nbformat": 4,
 "nbformat_minor": 2
}
