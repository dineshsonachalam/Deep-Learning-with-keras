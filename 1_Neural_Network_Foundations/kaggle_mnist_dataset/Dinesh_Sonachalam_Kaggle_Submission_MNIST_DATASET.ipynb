{
 "cells": [
  {
   "cell_type": "code",
   "execution_count": 49,
   "metadata": {},
   "outputs": [],
   "source": [
    "from __future__ import print_function\n",
    "import numpy as np\n",
    "import pandas as pd # data processing, CSV file I/O (e.g. pd.read_csv)\n",
    "from keras.datasets import mnist\n",
    "from keras.models import Sequential    # Importing Sequential Model\n",
    "from keras.layers.core import Dense,Dropout, Activation  #  Importing  Dense Layers,Dropouts and Activation functions\n",
    "from keras.optimizers import RMSprop, Adam\n",
    "from keras.utils import np_utils  \n",
    "np.random.seed(1671) # for reproducibility -> Once you put the same seed you get same patterns of random numbers."
   ]
  },
  {
   "cell_type": "code",
   "execution_count": 50,
   "metadata": {},
   "outputs": [],
   "source": [
    "# network and training\n",
    "NB_EPOCH = 30 # 30-> times the model is exposed to the training set.\n",
    "BATCH_SIZE = 300\n",
    "VERBOSE = 1\n",
    "NB_CLASSES = 10 # number of outputs = number of digits\n",
    "OPTIMIZER = Adam()\n",
    "N_HIDDEN = 128 # Neurons\n",
    "VALIDATION_SPLIT=0.2 # how much TRAIN is reserved for VALIDATION\n",
    "DROPOUT = 0.3"
   ]
  },
  {
   "cell_type": "code",
   "execution_count": 52,
   "metadata": {},
   "outputs": [],
   "source": [
    "# Data: shuffled and split between train and test sets\n",
    "\n",
    "mnist_data = pd.read_csv(\"train.csv\")\n",
    "\n",
    "X_train = (mnist_data.iloc[:, 1:].values).astype('float32')\n",
    "\n",
    "y_train_label = mnist_data['label'].values.astype('int32')\n",
    "\n",
    "X_test = (pd.read_csv(\"test.csv\").values).astype('float32')\n",
    "\n",
    "# (X_train, y_train_label), (X_test, y_test_label) = mnist.load_data()\n",
    "\n",
    "\n",
    "\n",
    "#X_train is 42000 rows of 28x28 values --> reshaped in 60000 x 784\n",
    "\n",
    "RESHAPED = 784\n",
    "X_train = X_train.reshape(42000, RESHAPED)\n",
    "\n",
    "X_train = X_train.astype('float32')\n",
    "X_test = X_test.astype('float32')"
   ]
  },
  {
   "cell_type": "code",
   "execution_count": 53,
   "metadata": {},
   "outputs": [
    {
     "name": "stdout",
     "output_type": "stream",
     "text": [
      "42000 train samples\n",
      "28000 test samples\n"
     ]
    }
   ],
   "source": [
    "# normalize -> Involve only rescaling to arrive at value relative to some size variables.\n",
    "\n",
    "X_train /= 255 # Pixel values are 0 to 255 -> So we are normalizing training data by dividing it by 255\n",
    "X_test /= 255\n",
    "print(X_train.shape[0], 'train samples')\n",
    "print(X_test.shape[0], 'test samples')"
   ]
  },
  {
   "cell_type": "code",
   "execution_count": 54,
   "metadata": {},
   "outputs": [],
   "source": [
    "# convert class vectors to binary class matrices\n",
    "Y_train_label = np_utils.to_categorical(y_train_label, NB_CLASSES) \n",
    "\n",
    "\n",
    "# np_utils.to_categorical Used to convert the array of labelled data to one Hot vector-> Binarization of category"
   ]
  },
  {
   "cell_type": "code",
   "execution_count": 55,
   "metadata": {},
   "outputs": [
    {
     "name": "stdout",
     "output_type": "stream",
     "text": [
      "_________________________________________________________________\n",
      "Layer (type)                 Output Shape              Param #   \n",
      "=================================================================\n",
      "dense_26 (Dense)             (None, 128)               100480    \n",
      "_________________________________________________________________\n",
      "activation_26 (Activation)   (None, 128)               0         \n",
      "_________________________________________________________________\n",
      "dropout_18 (Dropout)         (None, 128)               0         \n",
      "_________________________________________________________________\n",
      "dense_27 (Dense)             (None, 128)               16512     \n",
      "_________________________________________________________________\n",
      "activation_27 (Activation)   (None, 128)               0         \n",
      "_________________________________________________________________\n",
      "dropout_19 (Dropout)         (None, 128)               0         \n",
      "_________________________________________________________________\n",
      "dense_28 (Dense)             (None, 10)                1290      \n",
      "_________________________________________________________________\n",
      "activation_28 (Activation)   (None, 10)                0         \n",
      "=================================================================\n",
      "Total params: 118,282\n",
      "Trainable params: 118,282\n",
      "Non-trainable params: 0\n",
      "_________________________________________________________________\n"
     ]
    }
   ],
   "source": [
    "# Final hidden layer  with 10 outputs\n",
    "# final stage is softmax\n",
    "model = Sequential() # Sequential Model.\n",
    "model.add(Dense(N_HIDDEN, input_shape=(RESHAPED,))) # 1st Hidden Layer --> 128 neurons and input dimension ->784\n",
    "model.add(Activation('relu')) # Activation function for 1st Hidden Layer\n",
    "model.add(Dropout(DROPOUT))\n",
    "\n",
    "model.add(Dense(N_HIDDEN))  # 2nd Hidden Layer --> 128 neurons\n",
    "model.add(Activation('relu')) # Activation function for 2nd Hidden Layer\n",
    "model.add(Dropout(DROPOUT))\n",
    "\n",
    "\n",
    "model.add(Dense(NB_CLASSES)) # Final layer with 10 neurons == > no of outputs\n",
    "model.add(Activation('softmax')) # Final layer activation will be 'softmax'\n",
    "\n",
    "model.summary()"
   ]
  },
  {
   "cell_type": "code",
   "execution_count": 56,
   "metadata": {},
   "outputs": [],
   "source": [
    "# Compiling a model in keras\n",
    "model.compile(loss='categorical_crossentropy', optimizer=OPTIMIZER, metrics=['accuracy'])"
   ]
  },
  {
   "cell_type": "code",
   "execution_count": 57,
   "metadata": {},
   "outputs": [
    {
     "name": "stdout",
     "output_type": "stream",
     "text": [
      "Train on 33600 samples, validate on 8400 samples\n",
      "Epoch 1/30\n",
      "33600/33600 [==============================] - 2s 63us/step - loss: 0.7847 - acc: 0.7601 - val_loss: 0.2776 - val_acc: 0.9202\n",
      "Epoch 2/30\n",
      "33600/33600 [==============================] - 2s 49us/step - loss: 0.3272 - acc: 0.9031 - val_loss: 0.1936 - val_acc: 0.9418\n",
      "Epoch 3/30\n",
      "33600/33600 [==============================] - 2s 49us/step - loss: 0.2458 - acc: 0.9260 - val_loss: 0.1555 - val_acc: 0.9549\n",
      "Epoch 4/30\n",
      "33600/33600 [==============================] - 2s 49us/step - loss: 0.2022 - acc: 0.9385 - val_loss: 0.1390 - val_acc: 0.9592\n",
      "Epoch 5/30\n",
      "33600/33600 [==============================] - 2s 49us/step - loss: 0.1734 - acc: 0.9483 - val_loss: 0.1222 - val_acc: 0.9632\n",
      "Epoch 6/30\n",
      "33600/33600 [==============================] - 2s 50us/step - loss: 0.1557 - acc: 0.9523 - val_loss: 0.1126 - val_acc: 0.9660\n",
      "Epoch 7/30\n",
      "33600/33600 [==============================] - 2s 51us/step - loss: 0.1383 - acc: 0.9579 - val_loss: 0.1101 - val_acc: 0.9662\n",
      "Epoch 8/30\n",
      "33600/33600 [==============================] - 2s 50us/step - loss: 0.1263 - acc: 0.9612 - val_loss: 0.1007 - val_acc: 0.9687\n",
      "Epoch 9/30\n",
      "33600/33600 [==============================] - 2s 50us/step - loss: 0.1160 - acc: 0.9643 - val_loss: 0.0995 - val_acc: 0.9698\n",
      "Epoch 10/30\n",
      "33600/33600 [==============================] - 2s 52us/step - loss: 0.1110 - acc: 0.9657 - val_loss: 0.0965 - val_acc: 0.9708\n",
      "Epoch 11/30\n",
      "33600/33600 [==============================] - 2s 50us/step - loss: 0.0990 - acc: 0.9694 - val_loss: 0.0999 - val_acc: 0.9696\n",
      "Epoch 12/30\n",
      "33600/33600 [==============================] - 2s 50us/step - loss: 0.0942 - acc: 0.9697 - val_loss: 0.0948 - val_acc: 0.9707\n",
      "Epoch 13/30\n",
      "33600/33600 [==============================] - 2s 52us/step - loss: 0.0905 - acc: 0.9721 - val_loss: 0.0896 - val_acc: 0.9720\n",
      "Epoch 14/30\n",
      "33600/33600 [==============================] - 2s 50us/step - loss: 0.0802 - acc: 0.9744 - val_loss: 0.0911 - val_acc: 0.9725\n",
      "Epoch 15/30\n",
      "33600/33600 [==============================] - 2s 51us/step - loss: 0.0803 - acc: 0.9751 - val_loss: 0.0920 - val_acc: 0.9729\n",
      "Epoch 16/30\n",
      "33600/33600 [==============================] - 2s 56us/step - loss: 0.0729 - acc: 0.9764 - val_loss: 0.0892 - val_acc: 0.9749\n",
      "Epoch 17/30\n",
      "33600/33600 [==============================] - 2s 50us/step - loss: 0.0698 - acc: 0.9780 - val_loss: 0.0910 - val_acc: 0.9733\n",
      "Epoch 18/30\n",
      "33600/33600 [==============================] - 2s 50us/step - loss: 0.0649 - acc: 0.9796 - val_loss: 0.0935 - val_acc: 0.9740\n",
      "Epoch 19/30\n",
      "33600/33600 [==============================] - 2s 50us/step - loss: 0.0639 - acc: 0.9785 - val_loss: 0.0898 - val_acc: 0.9742\n",
      "Epoch 20/30\n",
      "33600/33600 [==============================] - 2s 50us/step - loss: 0.0602 - acc: 0.9806 - val_loss: 0.0893 - val_acc: 0.9752\n",
      "Epoch 21/30\n",
      "33600/33600 [==============================] - 2s 51us/step - loss: 0.0568 - acc: 0.9819 - val_loss: 0.0885 - val_acc: 0.9762\n",
      "Epoch 22/30\n",
      "33600/33600 [==============================] - 2s 50us/step - loss: 0.0557 - acc: 0.9812 - val_loss: 0.0889 - val_acc: 0.9761\n",
      "Epoch 23/30\n",
      "33600/33600 [==============================] - 2s 50us/step - loss: 0.0532 - acc: 0.9823 - val_loss: 0.0899 - val_acc: 0.9744\n",
      "Epoch 24/30\n",
      "33600/33600 [==============================] - 2s 51us/step - loss: 0.0534 - acc: 0.9830 - val_loss: 0.0921 - val_acc: 0.9763\n",
      "Epoch 25/30\n",
      "33600/33600 [==============================] - 2s 51us/step - loss: 0.0505 - acc: 0.9837 - val_loss: 0.0844 - val_acc: 0.9780\n",
      "Epoch 26/30\n",
      "33600/33600 [==============================] - 2s 51us/step - loss: 0.0483 - acc: 0.9841 - val_loss: 0.0922 - val_acc: 0.9764\n",
      "Epoch 27/30\n",
      "33600/33600 [==============================] - 2s 50us/step - loss: 0.0480 - acc: 0.9839 - val_loss: 0.0875 - val_acc: 0.9776\n",
      "Epoch 28/30\n",
      "33600/33600 [==============================] - 2s 53us/step - loss: 0.0452 - acc: 0.9851 - val_loss: 0.0879 - val_acc: 0.9780\n",
      "Epoch 29/30\n",
      "33600/33600 [==============================] - 2s 50us/step - loss: 0.0435 - acc: 0.9853 - val_loss: 0.0908 - val_acc: 0.9774\n",
      "Epoch 30/30\n",
      "33600/33600 [==============================] - 2s 50us/step - loss: 0.0409 - acc: 0.9864 - val_loss: 0.0897 - val_acc: 0.9777\n"
     ]
    }
   ],
   "source": [
    "# Training a model in keras\n",
    "\n",
    "# Once the model is compiled it can be trained with the fit() function\n",
    "\n",
    "history = model.fit(X_train, Y_train_label,\n",
    "batch_size=BATCH_SIZE, epochs=NB_EPOCH,\n",
    "verbose=VERBOSE, validation_split=VALIDATION_SPLIT)"
   ]
  },
  {
   "cell_type": "code",
   "execution_count": 32,
   "metadata": {},
   "outputs": [],
   "source": [
    "predictions = model.predict_classes(X_test, verbose=0)\n",
    "submissions=pd.DataFrame({'ImageId':list(range(1,len(predictions) + 1)), \"Label\": predictions})\n",
    "submissions.to_csv(\"Final_Prediction.csv\", index=False, header=True)"
   ]
  }
 ],
 "metadata": {
  "kernelspec": {
   "display_name": "Python 3",
   "language": "python",
   "name": "python3"
  },
  "language_info": {
   "codemirror_mode": {
    "name": "ipython",
    "version": 3
   },
   "file_extension": ".py",
   "mimetype": "text/x-python",
   "name": "python",
   "nbconvert_exporter": "python",
   "pygments_lexer": "ipython3",
   "version": "3.6.3"
  }
 },
 "nbformat": 4,
 "nbformat_minor": 2
}
