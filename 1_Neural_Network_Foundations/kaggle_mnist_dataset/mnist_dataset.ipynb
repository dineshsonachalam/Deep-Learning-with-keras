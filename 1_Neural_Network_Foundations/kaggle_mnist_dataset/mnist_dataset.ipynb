{
 "cells": [
  {
   "cell_type": "code",
   "execution_count": 31,
   "metadata": {},
   "outputs": [],
   "source": [
    "import numpy as np # linear algebra\n",
    "import pandas as pd # data processing, CSV file I/O (e.g. pd.read_csv)\n"
   ]
  },
  {
   "cell_type": "code",
   "execution_count": 32,
   "metadata": {},
   "outputs": [],
   "source": [
    "import matplotlib.pyplot as plt\n",
    "%matplotlib inline"
   ]
  },
  {
   "cell_type": "code",
   "execution_count": 23,
   "metadata": {},
   "outputs": [
    {
     "name": "stderr",
     "output_type": "stream",
     "text": [
      "Using TensorFlow backend.\n"
     ]
    }
   ],
   "source": [
    "from keras.models import Sequential\n",
    "from keras.layers import Dense, Dropout, Lambda, Flatten\n",
    "from keras.optimizers import Adam, RMSprop\n",
    "from sklearn.model_selection import train_test_split"
   ]
  },
  {
   "cell_type": "code",
   "execution_count": 33,
   "metadata": {},
   "outputs": [],
   "source": [
    "train = pd.read_csv(\"train.csv\")\n",
    "test_images = (pd.read_csv(\"test.csv\").values).astype('float32')"
   ]
  },
  {
   "cell_type": "code",
   "execution_count": 34,
   "metadata": {},
   "outputs": [],
   "source": [
    "train_images = (train.iloc[:, 1:].values).astype('float32')\n",
    "train_labels = train['label'].values.astype('int32')"
   ]
  },
  {
   "cell_type": "code",
   "execution_count": 35,
   "metadata": {},
   "outputs": [
    {
     "data": {
      "text/plain": [
       "array([1, 0, 1, ..., 7, 6, 9])"
      ]
     },
     "execution_count": 35,
     "metadata": {},
     "output_type": "execute_result"
    }
   ],
   "source": [
    "train_labels"
   ]
  },
  {
   "cell_type": "code",
   "execution_count": 36,
   "metadata": {},
   "outputs": [
    {
     "data": {
      "text/plain": [
       "(42000, 784)"
      ]
     },
     "execution_count": 36,
     "metadata": {},
     "output_type": "execute_result"
    }
   ],
   "source": [
    "train_images.shape"
   ]
  },
  {
   "cell_type": "code",
   "execution_count": 37,
   "metadata": {},
   "outputs": [
    {
     "data": {
      "image/png": "[encoded data removed]",
      "text/plain": [
       "<matplotlib.figure.Figure at 0x200a397e438>"
      ]
     },
     "metadata": {},
     "output_type": "display_data"
    }
   ],
   "source": [
    "train_images = train_images.reshape(train_images.shape[0], 28, 28)\n",
    "\n",
    "for i in range(4,9):\n",
    "    plt.subplot(330 + (i+1))\n",
    "    plt.imshow(train_images[i], cmap=plt.get_cmap('gray'))\n",
    "    plt.title(train_labels[i])"
   ]
  },
  {
   "cell_type": "code",
   "execution_count": 38,
   "metadata": {},
   "outputs": [],
   "source": [
    "train_images = train_images.reshape((42000, 28 * 28))"
   ]
  },
  {
   "cell_type": "code",
   "execution_count": 39,
   "metadata": {},
   "outputs": [
    {
     "data": {
      "text/plain": [
       "array([1, 0, 1, ..., 7, 6, 9])"
      ]
     },
     "execution_count": 39,
     "metadata": {},
     "output_type": "execute_result"
    }
   ],
   "source": [
    "train_labels"
   ]
  },
  {
   "cell_type": "code",
   "execution_count": 40,
   "metadata": {},
   "outputs": [],
   "source": [
    "train_images = train_images/255\n",
    "test_images = test_images/255"
   ]
  },
  {
   "cell_type": "code",
   "execution_count": 41,
   "metadata": {},
   "outputs": [
    {
     "data": {
      "text/plain": [
       "10"
      ]
     },
     "execution_count": 41,
     "metadata": {},
     "output_type": "execute_result"
    }
   ],
   "source": [
    "from keras.utils.np_utils import to_categorical\n",
    "train_labels = to_categorical(train_labels)\n",
    "num_classes = train_labels.shape[1]\n",
    "num_classes"
   ]
  },
  {
   "cell_type": "code",
   "execution_count": 42,
   "metadata": {},
   "outputs": [
    {
     "data": {
      "image/png": "[encoded data removed]",
      "text/plain": [
       "<matplotlib.figure.Figure at 0x200a3a9c828>"
      ]
     },
     "metadata": {},
     "output_type": "display_data"
    }
   ],
   "source": [
    "plt.title(train_labels[9])\n",
    "plt.plot(train_labels[9])\n",
    "plt.xticks(range(10));"
   ]
  },
  {
   "cell_type": "code",
   "execution_count": 43,
   "metadata": {},
   "outputs": [],
   "source": [
    "seed = 43\n",
    "np.random.seed(seed)"
   ]
  },
  {
   "cell_type": "code",
   "execution_count": 44,
   "metadata": {},
   "outputs": [
    {
     "data": {
      "text/plain": [
       "(42000, 784)"
      ]
     },
     "execution_count": 44,
     "metadata": {},
     "output_type": "execute_result"
    }
   ],
   "source": [
    "train_images.shape"
   ]
  },
  {
   "cell_type": "code",
   "execution_count": 45,
   "metadata": {},
   "outputs": [],
   "source": [
    "from keras.models import Sequential\n",
    "from keras.layers import Dense, Dropout"
   ]
  },
  {
   "cell_type": "code",
   "execution_count": 47,
   "metadata": {},
   "outputs": [],
   "source": [
    "model = Sequential()\n",
    "model.add(Dense(32, activation='relu', input_dim=(28*28)))\n",
    "model.add(Dense(16, activation='relu'))\n",
    "model.add(Dense(10, activation='softmax'))"
   ]
  },
  {
   "cell_type": "code",
   "execution_count": 48,
   "metadata": {},
   "outputs": [],
   "source": [
    "from keras.optimizers import RMSprop"
   ]
  },
  {
   "cell_type": "code",
   "execution_count": 49,
   "metadata": {},
   "outputs": [],
   "source": [
    "model.compile(optimizer=RMSprop(lr=0.001),\n",
    "             loss='categorical_crossentropy',\n",
    "             metrics=['accuracy'])"
   ]
  },
  {
   "cell_type": "code",
   "execution_count": 50,
   "metadata": {},
   "outputs": [
    {
     "name": "stdout",
     "output_type": "stream",
     "text": [
      "Train on 39900 samples, validate on 2100 samples\n",
      "Epoch 1/25\n",
      "39900/39900 [==============================] - 2s 53us/step - loss: 0.5153 - acc: 0.8477 - val_loss: 0.3027 - val_acc: 0.9195\n",
      "Epoch 2/25\n",
      "39900/39900 [==============================] - 2s 44us/step - loss: 0.2249 - acc: 0.9338 - val_loss: 0.2269 - val_acc: 0.9367\n",
      "Epoch 3/25\n",
      "39900/39900 [==============================] - 2s 40us/step - loss: 0.1801 - acc: 0.9474 - val_loss: 0.1983 - val_acc: 0.9467\n",
      "Epoch 4/25\n",
      "39900/39900 [==============================] - 2s 42us/step - loss: 0.1541 - acc: 0.9536 - val_loss: 0.1928 - val_acc: 0.9467\n",
      "Epoch 5/25\n",
      "39900/39900 [==============================] - 2s 39us/step - loss: 0.1367 - acc: 0.9591 - val_loss: 0.1631 - val_acc: 0.9538\n",
      "Epoch 6/25\n",
      "39900/39900 [==============================] - 2s 39us/step - loss: 0.1220 - acc: 0.9636 - val_loss: 0.1634 - val_acc: 0.9557\n",
      "Epoch 7/25\n",
      "39900/39900 [==============================] - 2s 38us/step - loss: 0.1104 - acc: 0.9663 - val_loss: 0.1545 - val_acc: 0.9590\n",
      "Epoch 8/25\n",
      "39900/39900 [==============================] - 1s 36us/step - loss: 0.1008 - acc: 0.9693 - val_loss: 0.1496 - val_acc: 0.9590\n",
      "Epoch 9/25\n",
      "39900/39900 [==============================] - 1s 37us/step - loss: 0.0937 - acc: 0.9716 - val_loss: 0.1560 - val_acc: 0.9576\n",
      "Epoch 10/25\n",
      "39900/39900 [==============================] - 1s 37us/step - loss: 0.0869 - acc: 0.9737 - val_loss: 0.1659 - val_acc: 0.9586\n",
      "Epoch 11/25\n",
      "39900/39900 [==============================] - 2s 43us/step - loss: 0.0809 - acc: 0.9752 - val_loss: 0.1678 - val_acc: 0.9533\n",
      "Epoch 12/25\n",
      "39900/39900 [==============================] - 1s 36us/step - loss: 0.0760 - acc: 0.9765 - val_loss: 0.1613 - val_acc: 0.9595\n",
      "Epoch 13/25\n",
      "39900/39900 [==============================] - 2s 41us/step - loss: 0.0713 - acc: 0.9781 - val_loss: 0.1786 - val_acc: 0.9562\n",
      "Epoch 14/25\n",
      "39900/39900 [==============================] - 2s 43us/step - loss: 0.0673 - acc: 0.9793 - val_loss: 0.1680 - val_acc: 0.9590\n",
      "Epoch 15/25\n",
      "39900/39900 [==============================] - 2s 41us/step - loss: 0.0639 - acc: 0.9806 - val_loss: 0.1520 - val_acc: 0.9624\n",
      "Epoch 16/25\n",
      "39900/39900 [==============================] - 2s 41us/step - loss: 0.0591 - acc: 0.9815 - val_loss: 0.1681 - val_acc: 0.9600\n",
      "Epoch 17/25\n",
      "39900/39900 [==============================] - 2s 41us/step - loss: 0.0562 - acc: 0.9823 - val_loss: 0.1768 - val_acc: 0.9586\n",
      "Epoch 18/25\n",
      "39900/39900 [==============================] - 2s 42us/step - loss: 0.0528 - acc: 0.9840 - val_loss: 0.1648 - val_acc: 0.9614\n",
      "Epoch 19/25\n",
      "39900/39900 [==============================] - 2s 42us/step - loss: 0.0513 - acc: 0.9834 - val_loss: 0.1732 - val_acc: 0.9586\n",
      "Epoch 20/25\n",
      "39900/39900 [==============================] - 2s 41us/step - loss: 0.0481 - acc: 0.9851 - val_loss: 0.1723 - val_acc: 0.9576\n",
      "Epoch 21/25\n",
      "39900/39900 [==============================] - 2s 41us/step - loss: 0.0462 - acc: 0.9858 - val_loss: 0.1757 - val_acc: 0.9581\n",
      "Epoch 22/25\n",
      "39900/39900 [==============================] - 2s 42us/step - loss: 0.0437 - acc: 0.9866 - val_loss: 0.1690 - val_acc: 0.9576\n",
      "Epoch 23/25\n",
      "39900/39900 [==============================] - 2s 43us/step - loss: 0.0420 - acc: 0.9870 - val_loss: 0.1835 - val_acc: 0.9576\n",
      "Epoch 24/25\n",
      "39900/39900 [==============================] - 2s 41us/step - loss: 0.0401 - acc: 0.9882 - val_loss: 0.1929 - val_acc: 0.9590\n",
      "Epoch 25/25\n",
      "39900/39900 [==============================] - 2s 42us/step - loss: 0.0383 - acc: 0.9880 - val_loss: 0.1812 - val_acc: 0.9590\n"
     ]
    }
   ],
   "source": [
    "history=model.fit(train_images, train_labels, validation_split=0.05,\n",
    "                 epochs=25, batch_size=64)"
   ]
  },
  {
   "cell_type": "code",
   "execution_count": 51,
   "metadata": {},
   "outputs": [
    {
     "data": {
      "text/plain": [
       "dict_keys(['val_loss', 'val_acc', 'loss', 'acc'])"
      ]
     },
     "execution_count": 51,
     "metadata": {},
     "output_type": "execute_result"
    }
   ],
   "source": [
    "history_dict = history.history\n",
    "history_dict.keys()"
   ]
  },
  {
   "cell_type": "code",
   "execution_count": 52,
   "metadata": {},
   "outputs": [],
   "source": [
    "loss_values = history_dict['loss']\n",
    "val_loss_values = history_dict['val_loss']\n",
    "epochs = range(1, len(loss_values) + 1)"
   ]
  },
  {
   "cell_type": "code",
   "execution_count": 53,
   "metadata": {},
   "outputs": [],
   "source": [
    "acc_values = history_dict['acc']\n",
    "val_acc_values = history_dict['val_acc']"
   ]
  },
  {
   "cell_type": "code",
   "execution_count": 54,
   "metadata": {},
   "outputs": [
    {
     "data": {
      "image/png": "[encoded data removed]",
      "text/plain": [
       "<matplotlib.figure.Figure at 0x200a3a29908>"
      ]
     },
     "metadata": {},
     "output_type": "display_data"
    }
   ],
   "source": [
    "plt.plot(epochs, acc_values, 'bo')\n",
    "plt.plot(epochs, val_acc_values, 'b+')\n",
    "plt.xlabel('Epochs')\n",
    "plt.ylabel('Accuracy')\n",
    "\n",
    "plt.show()"
   ]
  },
  {
   "cell_type": "code",
   "execution_count": 55,
   "metadata": {},
   "outputs": [
    {
     "name": "stdout",
     "output_type": "stream",
     "text": [
      "Epoch 1/15\n",
      "42000/42000 [==============================] - 3s 73us/step - loss: 1.1874 - acc: 0.6653\n",
      "Epoch 2/15\n",
      "42000/42000 [==============================] - 3s 70us/step - loss: 0.4764 - acc: 0.8579\n",
      "Epoch 3/15\n",
      "42000/42000 [==============================] - 2s 59us/step - loss: 0.3563 - acc: 0.8947\n",
      "Epoch 4/15\n",
      "42000/42000 [==============================] - 3s 64us/step - loss: 0.2979 - acc: 0.9117\n",
      "Epoch 5/15\n",
      "42000/42000 [==============================] - 3s 68us/step - loss: 0.2636 - acc: 0.9224\n",
      "Epoch 6/15\n",
      "42000/42000 [==============================] - 3s 67us/step - loss: 0.2365 - acc: 0.9307\n",
      "Epoch 7/15\n",
      "42000/42000 [==============================] - 3s 65us/step - loss: 0.2139 - acc: 0.9370\n",
      "Epoch 8/15\n",
      "42000/42000 [==============================] - 3s 66us/step - loss: 0.1988 - acc: 0.9408\n",
      "Epoch 9/15\n",
      "42000/42000 [==============================] - 3s 65us/step - loss: 0.1824 - acc: 0.9459\n",
      "Epoch 10/15\n",
      "42000/42000 [==============================] - 3s 66us/step - loss: 0.1710 - acc: 0.9479\n",
      "Epoch 11/15\n",
      "42000/42000 [==============================] - 3s 66us/step - loss: 0.1602 - acc: 0.9521\n",
      "Epoch 12/15\n",
      "42000/42000 [==============================] - 3s 65us/step - loss: 0.1507 - acc: 0.9552\n",
      "Epoch 13/15\n",
      "42000/42000 [==============================] - 3s 66us/step - loss: 0.1419 - acc: 0.9575\n",
      "Epoch 14/15\n",
      "42000/42000 [==============================] - 3s 66us/step - loss: 0.1346 - acc: 0.9605\n",
      "Epoch 15/15\n",
      "42000/42000 [==============================] - 3s 66us/step - loss: 0.1283 - acc: 0.9612\n"
     ]
    }
   ],
   "source": [
    "model = Sequential()\n",
    "model.add(Dense(64, activation='relu', input_dim=(28*28)))\n",
    "model.add(Dense(128, activation='relu'))\n",
    "model.add(Dropout(0.15))\n",
    "model.add(Dense(64, activation='relu'))\n",
    "model.add(Dropout(0.15))\n",
    "model.add(Dense(10, activation='softmax'))\n",
    "\n",
    "model.compile(optimizer=RMSprop(lr=0.0001), loss='categorical_crossentropy', metrics=['accuracy'])\n",
    "history=model.fit(train_images, train_labels, epochs=15, batch_size=64)"
   ]
  },
  {
   "cell_type": "code",
   "execution_count": 56,
   "metadata": {},
   "outputs": [],
   "source": [
    "predictions = model.predict_classes(test_images, verbose=0)\n",
    "submissions=pd.DataFrame({'ImageId':list(range(1,len(predictions) + 1)), \"Label\": predictions})\n",
    "submissions.to_csv(\"DR.csv\", index=False, header=True)"
   ]
  }
 ],
 "metadata": {
  "kernelspec": {
   "display_name": "Python 3",
   "language": "python",
   "name": "python3"
  },
  "language_info": {
   "codemirror_mode": {
    "name": "ipython",
    "version": 3
   },
   "file_extension": ".py",
   "mimetype": "text/x-python",
   "name": "python",
   "nbconvert_exporter": "python",
   "pygments_lexer": "ipython3",
   "version": "3.6.3"
  }
 },
 "nbformat": 4,
 "nbformat_minor": 2
}
