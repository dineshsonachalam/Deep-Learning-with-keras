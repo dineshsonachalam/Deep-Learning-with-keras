{
 "cells": [
  {
   "cell_type": "code",
   "execution_count": 1,
   "metadata": {},
   "outputs": [
    {
     "name": "stderr",
     "output_type": "stream",
     "text": [
      "C:\\ProgramData\\Anaconda3\\lib\\site-packages\\gensim-3.2.0-py3.6-win-amd64.egg\\gensim\\utils.py:860: UserWarning: detected Windows; aliasing chunkize to chunkize_serial\n",
      "  warnings.warn(\"detected Windows; aliasing chunkize to chunkize_serial\")\n",
      "C:\\ProgramData\\Anaconda3\\lib\\site-packages\\h5py\\__init__.py:34: FutureWarning: Conversion of the second argument of issubdtype from `float` to `np.floating` is deprecated. In future, it will be treated as `np.float64 == np.dtype(float).type`.\n",
      "  from ._conv import register_converters as _register_converters\n",
      "Using TensorFlow backend.\n"
     ]
    }
   ],
   "source": [
    "from gensim.models import KeyedVectors\n",
    "from keras.layers.core import Dense, Dropout, SpatialDropout1D\n",
    "from keras.layers.convolutional import Conv1D\n",
    "from keras.layers.embeddings import Embedding\n",
    "from keras.layers.pooling import GlobalMaxPooling1D\n",
    "from keras.models import Sequential\n",
    "from keras.preprocessing.sequence import pad_sequences\n",
    "from keras.utils import np_utils\n",
    "from sklearn.model_selection import train_test_split\n",
    "import collections\n",
    "import matplotlib.pyplot as plt\n",
    "import nltk\n",
    "import numpy as np\n",
    "np.random.seed(42)"
   ]
  },
  {
   "cell_type": "code",
   "execution_count": 2,
   "metadata": {},
   "outputs": [],
   "source": [
    "INPUT_FILE = \"./data/umich-sentiment-train.txt\"\n",
    "WORD2VEC_MODEL = \"./data/GoogleNews-vectors-negative300.bin.gz\"\n",
    "VOCAB_SIZE = 5000\n",
    "EMBED_SIZE = 300\n",
    "NUM_FILTERS = 256\n",
    "NUM_WORDS = 3\n",
    "BATCH_SIZE = 64\n",
    "NUM_EPOCHS = 10"
   ]
  },
  {
   "cell_type": "code",
   "execution_count": 22,
   "metadata": {},
   "outputs": [],
   "source": [
    "counter = collections.Counter() #  dictionary containing keys and counts\n",
    "fin = open(INPUT_FILE, \"r\",encoding=\"utf8\")\n",
    "maxlen = 0\n",
    "for line in fin:\n",
    "    _, sent = line.strip().split(\"\\t\") # 1st argument neglected, only 2nd argument is send to sent(sentence)\n",
    "    words = [x.lower() for x in nltk.word_tokenize(sent)]  # Splitting the sentence into words\n",
    "    \n",
    "    # ['oh', ',', 'and', 'brokeback', 'mountain', 'was', 'a', 'terrible', 'movie', '.']\n",
    "    # len(words) -->10\n",
    "    if len(words) > maxlen: # words --> contains array of words in a sentence that is splitted\n",
    "        maxlen = len(words)\n",
    "    for word in words:\n",
    "        counter[word] += 1 # counter-> A dictionary store how many time a word appears in the whole test for \"The:7\"\n",
    "        # \"The\" --> Occurs seven times\n",
    "fin.close()\n"
   ]
  },
  {
   "cell_type": "code",
   "execution_count": 10,
   "metadata": {},
   "outputs": [],
   "source": [
    "word2index = collections.defaultdict(int)\n",
    "for wid, word in enumerate(counter.most_common(VOCAB_SIZE)):\n",
    "    word2index[word[0]] = wid + 1\n",
    "vocab_sz = len(word2index) + 1\n",
    "index2word = {v:k for k, v in word2index.items()}"
   ]
  },
  {
   "cell_type": "code",
   "execution_count": 15,
   "metadata": {},
   "outputs": [
    {
     "name": "stdout",
     "output_type": "stream",
     "text": [
      "(4960, 42) (2126, 42) (4960, 2) (2126, 2)\n"
     ]
    }
   ],
   "source": [
    "xs, ys = [], []\n",
    "fin = open(INPUT_FILE, \"rb\",encoding=\"utf8\")\n",
    "for line in fin:\n",
    "    label, sent = line.strip().split(\"\\t\")\n",
    "    ys.append(int(label))\n",
    "    words = [x.lower() for x in nltk.word_tokenize(sent)]\n",
    "    wids = [word2index[word] for word in words]\n",
    "    xs.append(wids)\n",
    "fin.close()\n",
    "X = pad_sequences(xs, maxlen=maxlen)\n",
    "Y = np_utils.to_categorical(ys)\n",
    "\n",
    "Xtrain, Xtest, Ytrain, Ytest = train_test_split(X, Y, test_size=0.3, \n",
    "                                                random_state=42)\n",
    "print(Xtrain.shape, Xtest.shape, Ytrain.shape, Ytest.shape)"
   ]
  },
  {
   "cell_type": "code",
   "execution_count": 17,
   "metadata": {},
   "outputs": [],
   "source": [
    "# load word2vec model\n",
    "word2vec = KeyedVectors.load_word2vec_format(WORD2VEC_MODEL, binary=True)\n",
    "embedding_weights = np.zeros((vocab_sz, EMBED_SIZE))\n",
    "for word, index in word2index.items():\n",
    "    try:\n",
    "        embedding_weights[index, :] = word2vec[word]\n",
    "    except KeyError:\n",
    "        pass"
   ]
  },
  {
   "cell_type": "code",
   "execution_count": 28,
   "metadata": {},
   "outputs": [
    {
     "name": "stdout",
     "output_type": "stream",
     "text": [
      "Train on 4960 samples, validate on 2126 samples\n",
      "Epoch 1/10\n",
      "4960/4960 [==============================] - 13s 3ms/step - loss: 0.1192 - acc: 0.9542 - val_loss: 0.0210 - val_acc: 0.9934\n",
      "Epoch 2/10\n",
      "4960/4960 [==============================] - 14s 3ms/step - loss: 0.0095 - acc: 0.9976 - val_loss: 0.0152 - val_acc: 0.9958\n",
      "Epoch 3/10\n",
      "4960/4960 [==============================] - 14s 3ms/step - loss: 0.0039 - acc: 0.9994 - val_loss: 0.0136 - val_acc: 0.9953\n",
      "Epoch 4/10\n",
      "4960/4960 [==============================] - 14s 3ms/step - loss: 0.0020 - acc: 0.9998 - val_loss: 0.0127 - val_acc: 0.9958\n",
      "Epoch 5/10\n",
      "4960/4960 [==============================] - 15s 3ms/step - loss: 0.0027 - acc: 0.9996 - val_loss: 0.0137 - val_acc: 0.9972\n",
      "Epoch 6/10\n",
      "4960/4960 [==============================] - 15s 3ms/step - loss: 0.0014 - acc: 0.9998 - val_loss: 0.0159 - val_acc: 0.9972\n",
      "Epoch 7/10\n",
      "4960/4960 [==============================] - 15s 3ms/step - loss: 0.0020 - acc: 0.9996 - val_loss: 0.0142 - val_acc: 0.9967\n",
      "Epoch 8/10\n",
      "4960/4960 [==============================] - 15s 3ms/step - loss: 0.0025 - acc: 0.9996 - val_loss: 0.0162 - val_acc: 0.9962\n",
      "Epoch 9/10\n",
      "4960/4960 [==============================] - 13s 3ms/step - loss: 0.0028 - acc: 0.9996 - val_loss: 0.0148 - val_acc: 0.9967\n",
      "Epoch 10/10\n",
      "4960/4960 [==============================] - 14s 3ms/step - loss: 0.0015 - acc: 0.9998 - val_loss: 0.0127 - val_acc: 0.9958\n"
     ]
    }
   ],
   "source": [
    "model = Sequential()\n",
    "model.add(Embedding(vocab_sz, EMBED_SIZE, input_length=maxlen,\n",
    "                    weights=[embedding_weights],\n",
    "                    trainable=True))\n",
    "# model.add(SpatialDropout1D(Dropout(0.2)))\n",
    "model.add(Conv1D(filters=NUM_FILTERS, kernel_size=NUM_WORDS,\n",
    "                 activation=\"relu\"))\n",
    "model.add(GlobalMaxPooling1D())\n",
    "model.add(Dense(2, activation=\"softmax\"))\n",
    "\n",
    "model.compile(optimizer=\"adam\", loss=\"categorical_crossentropy\",\n",
    "              metrics=[\"accuracy\"])\n",
    "history = model.fit(Xtrain, Ytrain, batch_size=BATCH_SIZE,\n",
    "                    epochs=NUM_EPOCHS,\n",
    "                    validation_data=(Xtest, Ytest))          "
   ]
  },
  {
   "cell_type": "code",
   "execution_count": null,
   "metadata": {},
   "outputs": [],
   "source": [
    "# plot loss function\n",
    "plt.subplot(211)\n",
    "plt.title(\"accuracy\")\n",
    "plt.plot(history.history[\"acc\"], color=\"r\", label=\"train\")\n",
    "plt.plot(history.history[\"val_acc\"], color=\"b\", label=\"validation\")\n",
    "plt.legend(loc=\"best\")\n",
    "\n",
    "plt.subplot(212)\n",
    "plt.title(\"loss\")\n",
    "plt.plot(history.history[\"loss\"], color=\"r\", label=\"train\")\n",
    "plt.plot(history.history[\"val_loss\"], color=\"b\", label=\"validation\")\n",
    "plt.legend(loc=\"best\")\n",
    "\n",
    "plt.tight_layout()\n",
    "plt.show()"
   ]
  },
  {
   "cell_type": "code",
   "execution_count": null,
   "metadata": {},
   "outputs": [],
   "source": [
    "# evaluate model\n",
    "score = model.evaluate(Xtest, Ytest, verbose=1)\n",
    "print(\"Test score: {:.3f}, accuracy: {:.3f}\".format(score[0], score[1]))"
   ]
  }
 ],
 "metadata": {
  "kernelspec": {
   "display_name": "Python 3",
   "language": "python",
   "name": "python3"
  },
  "language_info": {
   "codemirror_mode": {
    "name": "ipython",
    "version": 3
   },
   "file_extension": ".py",
   "mimetype": "text/x-python",
   "name": "python",
   "nbconvert_exporter": "python",
   "pygments_lexer": "ipython3",
   "version": "3.6.3"
  }
 },
 "nbformat": 4,
 "nbformat_minor": 2
}
