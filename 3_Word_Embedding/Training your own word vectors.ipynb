{
 "cells": [
  {
   "cell_type": "code",
   "execution_count": 10,
   "metadata": {},
   "outputs": [],
   "source": [
    "from gensim.models import KeyedVectors\n",
    "from gensim.models import word2vec\n",
    "import logging\n",
    "import os\n",
    "\n",
    "sentence=[['Neeraj','Boy'],['Sarwan','is'],['good','boy']]\n",
    "\n",
    "#training word2vec on 3 sentences\n",
    "\n",
    "model = word2vec.Word2Vec(sentence, min_count=1,size=300,workers=4)\n"
   ]
  },
  {
   "cell_type": "markdown",
   "metadata": {},
   "source": [
    "Let us try to understand the parameters of this model.\n",
    "\n",
    "- sentence – list of list of our corpus(a large and structured set of texts)\n",
    "\n",
    "- min_count=1 -The threshold value for the words. Word with frequency greater than this only are going to be included into the model.\n",
    "\n",
    "- size=300 – the number of dimensions in which we wish to represent our word. This is the size of the word vector.\n",
    "\n",
    "- workers=4 – used for parallelization\n"
   ]
  },
  {
   "cell_type": "code",
   "execution_count": 17,
   "metadata": {},
   "outputs": [
    {
     "name": "stdout",
     "output_type": "stream",
     "text": [
      "-0.006581070492671848\n"
     ]
    },
    {
     "name": "stderr",
     "output_type": "stream",
     "text": [
      "C:\\ProgramData\\Anaconda3\\lib\\site-packages\\ipykernel_launcher.py:5: DeprecationWarning: Call to deprecated `similarity` (Method will be removed in 4.0.0, use self.wv.similarity() instead).\n",
      "  \"\"\"\n"
     ]
    }
   ],
   "source": [
    "#using the model#The new trained model can be used similar to the pre-trained ones.\n",
    "\n",
    "#printing similarity index\n",
    "\n",
    "print(model.similarity('Boy', 'Neeraj'))\n"
   ]
  }
 ],
 "metadata": {
  "kernelspec": {
   "display_name": "Python 3",
   "language": "python",
   "name": "python3"
  },
  "language_info": {
   "codemirror_mode": {
    "name": "ipython",
    "version": 3
   },
   "file_extension": ".py",
   "mimetype": "text/x-python",
   "name": "python",
   "nbconvert_exporter": "python",
   "pygments_lexer": "ipython3",
   "version": "3.6.3"
  }
 },
 "nbformat": 4,
 "nbformat_minor": 2
}
