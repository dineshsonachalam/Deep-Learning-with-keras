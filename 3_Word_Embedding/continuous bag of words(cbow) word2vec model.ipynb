{
 "cells": [
  {
   "cell_type": "markdown",
   "metadata": {},
   "source": [
    "### 1. Import all necessary libraries"
   ]
  },
  {
   "cell_type": "code",
   "execution_count": 1,
   "metadata": {},
   "outputs": [
    {
     "name": "stderr",
     "output_type": "stream",
     "text": [
      "Using TensorFlow backend.\n"
     ]
    }
   ],
   "source": [
    "# -*- coding: utf-8 -*-\n",
    "from __future__ import division, print_function\n",
    "from keras.models import Sequential\n",
    "from keras.layers.core import Dense, Lambda\n",
    "from keras.layers.embeddings import Embedding\n",
    "import keras.backend as K"
   ]
  },
  {
   "cell_type": "code",
   "execution_count": null,
   "metadata": {},
   "outputs": [],
   "source": [
    "\n",
    "vocab_size = 5000\n",
    "embed_size = 300\n",
    "window_size = 1\n",
    "# window_size -> int maximum distance between two words in a positive couple."
   ]
  },
  {
   "cell_type": "markdown",
   "metadata": {},
   "source": [
    "### 2. Network architecture"
   ]
  },
  {
   "cell_type": "code",
   "execution_count": 2,
   "metadata": {},
   "outputs": [],
   "source": [
    "# 1. The input to the model are word IDs of context words.\n",
    "model = Sequential()\n",
    "\n",
    "# 2. The word IDs are fed into a common embedding layer that is initialized with small random weights.\n",
    "\n",
    "# Each word ID transformed into a vector of size(embed_size) by the embedding layer.\n",
    "\n",
    "# Each row of the input context is transformed into a matrix of size (2*window_size, embed_size) by this layer.\n",
    "\n",
    "model.add(Embedding(input_dim=vocab_size, output_dim=embed_size, \n",
    "                    embeddings_initializer='glorot_uniform',\n",
    "                    input_length=window_size*2))\n",
    "\n",
    "# 3. lambda layer, which computes an average of all the embeddings.\n",
    "\n",
    "model.add(Lambda(lambda x: K.mean(x, axis=1), output_shape=(embed_size,)))\n",
    "\n",
    "# 4. This average is then fed to a dense layer, which creates a dense vector of size (vocab_size) for each row.\n",
    "model.add(Dense(vocab_size, kernel_initializer='glorot_uniform', \n",
    "                activation='softmax'))\n",
    "\n",
    "# 5. The activation function on the dense layer is a softmax, \n",
    "#    which reports the maximum value on the output vector as a probability. The ID\n",
    "#    with the maximum probability corresponds to the target word.\n",
    "\n",
    "model.compile(loss='categorical_crossentropy', optimizer=\"adadelta\")\n",
    "\n",
    "# get weights\n",
    "weights = model.layers[0].get_weights()[0]"
   ]
  }
 ],
 "metadata": {
  "kernelspec": {
   "display_name": "Python 3",
   "language": "python",
   "name": "python3"
  },
  "language_info": {
   "codemirror_mode": {
    "name": "ipython",
    "version": 3
   },
   "file_extension": ".py",
   "mimetype": "text/x-python",
   "name": "python",
   "nbconvert_exporter": "python",
   "pygments_lexer": "ipython3",
   "version": "3.6.3"
  }
 },
 "nbformat": 4,
 "nbformat_minor": 2
}
